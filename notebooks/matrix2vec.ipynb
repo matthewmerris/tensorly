{
 "cells": [
  {
   "cell_type": "code",
   "execution_count": 1,
   "id": "pending-beach",
   "metadata": {},
   "outputs": [],
   "source": [
    "import numpy as np\n",
    "import random\n",
    "import os\n"
   ]
  },
  {
   "cell_type": "code",
   "execution_count": 2,
   "id": "d6c40042",
   "metadata": {},
   "outputs": [
    {
     "name": "stdout",
     "output_type": "stream",
     "text": [
      "/Users/matthewmerris/dev/research/tensorly\n",
      "Obtaining file:///Users/matthewmerris/dev/research/tensorly\n",
      "Requirement already satisfied: numpy in /Users/matthewmerris/anaconda3/envs/tensorly/lib/python3.9/site-packages (from tensorly==0.5.1) (1.19.2)\n",
      "Requirement already satisfied: scipy in /Users/matthewmerris/anaconda3/envs/tensorly/lib/python3.9/site-packages (from tensorly==0.5.1) (1.6.2)\n",
      "Requirement already satisfied: nose in /Users/matthewmerris/anaconda3/envs/tensorly/lib/python3.9/site-packages (from tensorly==0.5.1) (1.3.7)\n",
      "Installing collected packages: tensorly\n",
      "  Attempting uninstall: tensorly\n",
      "    Found existing installation: tensorly 0.5.1\n",
      "    Uninstalling tensorly-0.5.1:\n",
      "      Successfully uninstalled tensorly-0.5.1\n",
      "  Running setup.py develop for tensorly\n",
      "Successfully installed tensorly\n",
      "Note: you may need to restart the kernel to use updated packages.\n",
      "/Users/matthewmerris/dev/research/tensorly/notebooks\n"
     ]
    }
   ],
   "source": [
    "%cd ..\n",
    "%pip install -e .\n",
    "%cd notebooks"
   ]
  },
  {
   "cell_type": "code",
   "execution_count": 41,
   "id": "crude-japan",
   "metadata": {},
   "outputs": [],
   "source": [
    "import tensorly as tl\n",
    "from tensorly.cp_tensor import CPTensor\n",
    "factors = []\n",
    "for x in range(0,3):\n",
    "    a = tl.tensor(np.arange(12).reshape(4,3))\n",
    "    factors.append(a)\n",
    "weights = tl.ones(3)\n",
    "M = CPTensor((weights,factors))"
   ]
  },
  {
   "cell_type": "code",
   "execution_count": 42,
   "id": "breeding-cooperative",
   "metadata": {},
   "outputs": [],
   "source": [
    "def factors_to_vec(factors):\n",
    "    # stacks column vectors of factor matrices into a single vector\n",
    "    vec = None\n",
    "    for m in factors:\n",
    "        if vec is None:\n",
    "            vec = tl.tensor_to_vec(tl.unfold(m,1))\n",
    "        else:\n",
    "            vec = tl.concatenate([vec,tl.tensor_to_vec(tl.unfold(m,1))])    \n",
    "    return vec"
   ]
  },
  {
   "cell_type": "code",
   "execution_count": 43,
   "id": "376e0a9f",
   "metadata": {},
   "outputs": [
    {
     "name": "stdout",
     "output_type": "stream",
     "text": [
      "[ 0  3  6  9  1  4  7 10  2  5  8 11  0  3  6  9  1  4  7 10  2  5  8 11\n",
      "  0  3  6  9  1  4  7 10  2  5  8 11]\n"
     ]
    }
   ],
   "source": [
    "testie = factors_to_vec(factors)\n",
    "print(testie)"
   ]
  },
  {
   "cell_type": "code",
   "execution_count": 44,
   "id": "4de64f0b",
   "metadata": {},
   "outputs": [
    {
     "name": "stdout",
     "output_type": "stream",
     "text": [
      "(4, 4, 4)\n",
      "3\n"
     ]
    }
   ],
   "source": [
    "shp, rank = cp_tensor._validate_cp_tensor(M)\n",
    "print(shp)\n",
    "print(rank)"
   ]
  },
  {
   "cell_type": "code",
   "execution_count": 45,
   "id": "c0147704",
   "metadata": {},
   "outputs": [
    {
     "name": "stdout",
     "output_type": "stream",
     "text": [
      "[ 0  3  6  9  1  4  7 10  2  5  8 11  0  3  6  9  1  4  7 10  2  5  8 11\n",
      "  0  3  6  9  1  4  7 10  2  5  8 11]\n"
     ]
    }
   ],
   "source": [
    "testie = factors_to_vec(M[1])\n",
    "print(testie)\n"
   ]
  },
  {
   "cell_type": "code",
   "execution_count": 46,
   "id": "7d1332ac",
   "metadata": {},
   "outputs": [],
   "source": [
    "def vec_to_factors(vec, shape, rank):\n",
    "    # reconstruct factor matrices\n",
    "    numFacts = shape.length()\n",
    "    "
   ]
  },
  {
   "cell_type": "code",
   "execution_count": null,
   "id": "1f2cd351",
   "metadata": {},
   "outputs": [],
   "source": []
  }
 ],
 "metadata": {
  "kernelspec": {
   "display_name": "Python 3",
   "language": "python",
   "name": "python3"
  },
  "language_info": {
   "codemirror_mode": {
    "name": "ipython",
    "version": 3
   },
   "file_extension": ".py",
   "mimetype": "text/x-python",
   "name": "python",
   "nbconvert_exporter": "python",
   "pygments_lexer": "ipython3",
   "version": "3.9.2"
  }
 },
 "nbformat": 4,
 "nbformat_minor": 5
}
