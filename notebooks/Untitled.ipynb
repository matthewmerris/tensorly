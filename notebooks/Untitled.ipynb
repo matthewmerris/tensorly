{
 "cells": [
  {
   "cell_type": "code",
   "execution_count": 8,
   "id": "emotional-processor",
   "metadata": {},
   "outputs": [],
   "source": [
    "import numpy as np\n",
    "import random\n",
    "import os\n"
   ]
  },
  {
   "cell_type": "code",
   "execution_count": 2,
   "id": "handmade-trainer",
   "metadata": {},
   "outputs": [],
   "source": [
    "def FillMatrix(mat):\n",
    "    for x in range(0,mat.shape[0]):\n",
    "        for y in range(0,mat.shape[1]):\n",
    "            mat[x][y] = random.randrange(1,5)"
   ]
  },
  {
   "cell_type": "code",
   "execution_count": 3,
   "id": "advisory-contamination",
   "metadata": {},
   "outputs": [
    {
     "name": "stdout",
     "output_type": "stream",
     "text": [
      "matrix:\n",
      "[[1. 2. 4.]\n",
      " [4. 4. 4.]\n",
      " [3. 4. 2.]]\n",
      "vectorized!\n",
      "[1. 4. 3. 2. 4. 4. 4. 4. 2.]\n"
     ]
    }
   ],
   "source": [
    "dummy = np.ndarray((3,3))\n",
    "FillMatrix(dummy)\n",
    "vecDum = np.reshape(dummy,-1, order='F')\n",
    "\n",
    "print(\"matrix:\")\n",
    "print(dummy)\n",
    "print(\"vectorized!\")\n",
    "print(vecDum)"
   ]
  },
  {
   "cell_type": "code",
   "execution_count": 4,
   "id": "august-metadata",
   "metadata": {},
   "outputs": [
    {
     "data": {
      "text/plain": [
       "'/Users/matthewmerris/notebooks/doodling'"
      ]
     },
     "execution_count": 4,
     "metadata": {},
     "output_type": "execute_result"
    }
   ],
   "source": [
    "pwd"
   ]
  },
  {
   "cell_type": "code",
   "execution_count": 5,
   "id": "statistical-likelihood",
   "metadata": {},
   "outputs": [
    {
     "name": "stdout",
     "output_type": "stream",
     "text": [
      "/Users/matthewmerris/dev/research/tensorly\n"
     ]
    }
   ],
   "source": [
    "%cd /Users/matthewmerris/dev/research/tensorly\n"
   ]
  },
  {
   "cell_type": "code",
   "execution_count": 10,
   "id": "opponent-practitioner",
   "metadata": {},
   "outputs": [
    {
     "name": "stdout",
     "output_type": "stream",
     "text": [
      "if command -v pyenv 1>/dev/null 2>&1; then\n",
      "  eval \"$(pyenv init -)\"\n",
      "fi\n",
      "/Users/matthewmerris/anaconda3/bin:/Users/matthewmerris/anaconda3/condabin:/Users/matthewmerris/.cabal/bin:/Users/matthewmerris/.ghcup/bin:/Users/matthewmerris/.pyenv/plugins/pyenv-virtualenv/shims:/bin:/Users/matthewmerris/.pyenv/shims:/usr/local/bin:/usr/bin:/bin:/usr/sbin:/sbin:/Applications/VMware Fusion.app/Contents/Public:/Library/Apple/usr/bin\n",
      "if command -v pyenv 1>/dev/null 2>&1; then\n",
      "  eval \"$(pyenv init -)\"\n",
      "fi\n",
      "pip is /Users/matthewmerris/.pyenv/shims/pip\n"
     ]
    }
   ],
   "source": [
    "!echo $PATH\n",
    "!type pip"
   ]
  },
  {
   "cell_type": "code",
   "execution_count": 6,
   "id": "miniature-surname",
   "metadata": {},
   "outputs": [
    {
     "name": "stdout",
     "output_type": "stream",
     "text": [
      "if command -v pyenv 1>/dev/null 2>&1; then\n",
      "  eval \"$(pyenv init -)\"\n",
      "fi\n",
      "/Users/matthewmerris/anaconda3/bin/python: No module named pip\n",
      "Note: you may need to restart the kernel to use updated packages.\n",
      "/Users/matthewmerris/notebooks/doodling\n"
     ]
    }
   ],
   "source": [
    "%pip install -e\n",
    "%cd /Users/matthewmerris/notebooks/doodling"
   ]
  },
  {
   "cell_type": "code",
   "execution_count": null,
   "id": "worldwide-tobago",
   "metadata": {},
   "outputs": [],
   "source": []
  }
 ],
 "metadata": {
  "kernelspec": {
   "display_name": "Python 3",
   "language": "python",
   "name": "python3"
  },
  "language_info": {
   "codemirror_mode": {
    "name": "ipython",
    "version": 3
   },
   "file_extension": ".py",
   "mimetype": "text/x-python",
   "name": "python",
   "nbconvert_exporter": "python",
   "pygments_lexer": "ipython3",
   "version": "3.7.4"
  }
 },
 "nbformat": 4,
 "nbformat_minor": 5
}
